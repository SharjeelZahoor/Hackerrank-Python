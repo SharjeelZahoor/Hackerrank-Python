{
  "cells": [
    {
      "cell_type": "markdown",
      "metadata": {
        "id": "view-in-github",
        "colab_type": "text"
      },
      "source": [
        "<a href=\"https://colab.research.google.com/github/SharjeelZahoor/Hackerrank-Python/blob/main/funny%20string.ipynb\" target=\"_parent\"><img src=\"https://colab.research.google.com/assets/colab-badge.svg\" alt=\"Open In Colab\"/></a>"
      ]
    },
    {
      "cell_type": "markdown",
      "source": [
        "🔍 Problem Details:\n",
        "\n",
        "In this challenge, I had to determine whether a string is \"Funny\" or \"Not Funny.\" The task involved creating a reverse of the string and comparing the absolute differences between the ASCII values of adjacent characters in both the original and reversed strings. If these differences were identical, the string was considered \"Funny.\" It was a fascinating exercise in string manipulation and understanding ASCII values!\n"
      ],
      "metadata": {
        "id": "0pWoUV9AX9Uf"
      }
    },
    {
      "cell_type": "code",
      "source": [
        "def funnyString(s):\n",
        "    # Write your code here\n",
        "    reverse_s = s[::-1]\n",
        "    ls = [ord(char) for char in s]\n",
        "    lr = [ord(char) for char in reverse_s]\n",
        "\n",
        "    lsd = [abs(ls[i] - ls[i+1]) for i in range(len(ls)-1)]\n",
        "    lrd = [abs(lr[i] - lr[i+1]) for i in range(len(lr)-1)]\n",
        "\n",
        "    count = 0\n",
        "    for i in range(len(lsd)):\n",
        "        if lsd[i] == lrd[i]:\n",
        "            count += 1\n",
        "\n",
        "    if count == len(lsd):\n",
        "        return \"Funny\"\n",
        "    return \"Not Funny\"\n",
        "\n",
        "s = \"acxz\"\n",
        "funnyString(s)\n"
      ],
      "metadata": {
        "id": "JO20um0mOzhk",
        "colab": {
          "base_uri": "https://localhost:8080/",
          "height": 35
        },
        "outputId": "5afad8dc-7c39-42ea-a80a-2f9b0b390936"
      },
      "execution_count": 9,
      "outputs": [
        {
          "output_type": "execute_result",
          "data": {
            "text/plain": [
              "'Funny'"
            ],
            "application/vnd.google.colaboratory.intrinsic+json": {
              "type": "string"
            }
          },
          "metadata": {},
          "execution_count": 9
        }
      ]
    }
  ],
  "metadata": {
    "colab": {
      "provenance": [],
      "authorship_tag": "ABX9TyOlJZSBGQ+2QDXVTEup89PQ",
      "include_colab_link": true
    },
    "kernelspec": {
      "display_name": "Python 3",
      "name": "python3"
    },
    "language_info": {
      "name": "python"
    }
  },
  "nbformat": 4,
  "nbformat_minor": 0
}
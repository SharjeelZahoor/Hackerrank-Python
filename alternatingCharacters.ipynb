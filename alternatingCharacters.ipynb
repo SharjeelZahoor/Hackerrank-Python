{
  "cells": [
    {
      "cell_type": "markdown",
      "metadata": {
        "id": "view-in-github",
        "colab_type": "text"
      },
      "source": [
        "<a href=\"https://colab.research.google.com/github/SharjeelZahoor/Hackerrank-Python/blob/main/alternatingCharacters.ipynb\" target=\"_parent\"><img src=\"https://colab.research.google.com/assets/colab-badge.svg\" alt=\"Open In Colab\"/></a>"
      ]
    },
    {
      "cell_type": "markdown",
      "source": [
        "Strings like \"AAAA\", \"BBBBB\", and \"AAABBB\"\n",
        "\n",
        "I implemented a solution that determines the minimum number of deletions needed to ensure no two adjacent characters are identical. 🚀"
      ],
      "metadata": {
        "id": "1M5UfbqVapep"
      }
    },
    {
      "cell_type": "code",
      "source": [
        "def alternatingCharacters(s):\n",
        "    # Write your code here\n",
        "    count = 0\n",
        "    for i in range(len(s)-1):\n",
        "        if s[i+1] == s[i]:\n",
        "            count+=1\n",
        "    return count\n",
        "\n",
        "\n",
        "s = 'ABBAAB'\n",
        "result = alternatingCharacters(s)\n",
        "print(result)"
      ],
      "metadata": {
        "colab": {
          "base_uri": "https://localhost:8080/"
        },
        "id": "v40rxncIBGs-",
        "outputId": "7e3b74cd-b360-4dd6-8117-e8356f1ab0d1"
      },
      "execution_count": 8,
      "outputs": [
        {
          "output_type": "stream",
          "name": "stdout",
          "text": [
            "2\n"
          ]
        }
      ]
    }
  ],
  "metadata": {
    "colab": {
      "provenance": [],
      "authorship_tag": "ABX9TyNUGYQPivoyov7TfWAIu1I5",
      "include_colab_link": true
    },
    "kernelspec": {
      "display_name": "Python 3",
      "name": "python3"
    },
    "language_info": {
      "name": "python"
    }
  },
  "nbformat": 4,
  "nbformat_minor": 0
}
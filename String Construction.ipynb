{
  "cells": [
    {
      "cell_type": "markdown",
      "metadata": {
        "id": "view-in-github",
        "colab_type": "text"
      },
      "source": [
        "<a href=\"https://colab.research.google.com/github/SharjeelZahoor/Hackerrank-Python/blob/main/String%20Construction.ipynb\" target=\"_parent\"><img src=\"https://colab.research.google.com/assets/colab-badge.svg\" alt=\"Open In Colab\"/></a>"
      ]
    },
    {
      "cell_type": "markdown",
      "source": [
        "**String Construction**\n",
        "\n",
        "The goal was to determine the minimum cost of constructing a new string by either appending individual characters (with a cost) or copying any substring at no cost.\n",
        "\n",
        "The key insight I discovered was that the minimum cost depends only on the number of unique characters in the string. If a character appears multiple times, it can be copied without additional costs. Therefore, the solution comes down to counting the unique characters!"
      ],
      "metadata": {
        "id": "_h-K-24LGKab"
      }
    },
    {
      "cell_type": "code",
      "execution_count": 10,
      "metadata": {
        "colab": {
          "base_uri": "https://localhost:8080/"
        },
        "id": "v40rxncIBGs-",
        "outputId": "f89c0023-1248-4416-94e3-efe61ac3a19f"
      },
      "outputs": [
        {
          "output_type": "stream",
          "name": "stdout",
          "text": [
            "4\n",
            "2\n"
          ]
        }
      ],
      "source": [
        "def stringConstruction(s):\n",
        "    # Write your code here\n",
        "    return len(set(s))\n",
        "\n",
        "s1 = \"abcd\"\n",
        "print(stringConstruction(s1))\n",
        "\n",
        "s2 = \"abab\"\n",
        "print(stringConstruction(s2))"
      ]
    }
  ],
  "metadata": {
    "colab": {
      "provenance": [],
      "authorship_tag": "ABX9TyNG4CVL6oeioEMxy/wFc5CQ",
      "include_colab_link": true
    },
    "kernelspec": {
      "display_name": "Python 3",
      "name": "python3"
    },
    "language_info": {
      "name": "python"
    }
  },
  "nbformat": 4,
  "nbformat_minor": 0
}
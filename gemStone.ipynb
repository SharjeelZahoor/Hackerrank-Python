{
  "cells": [
    {
      "cell_type": "markdown",
      "metadata": {
        "id": "view-in-github",
        "colab_type": "text"
      },
      "source": [
        "<a href=\"https://colab.research.google.com/github/SharjeelZahoor/Hackerrank-Python/blob/main/gemStone.ipynb\" target=\"_parent\"><img src=\"https://colab.research.google.com/assets/colab-badge.svg\" alt=\"Open In Colab\"/></a>"
      ]
    },
    {
      "cell_type": "markdown",
      "source": [
        "There is a collection of rocks where each rock has various minerals embeded in it. Each type of mineral is designated by a lowercase letter in the range a-z . There may be multiple occurrences of a mineral in a rock. A mineral is called a gemstone if it occurs at least once in each of the rocks in the collection.\n",
        "\n",
        "RETURN\n",
        "the number of gemstones found\n",
        "\n"
      ],
      "metadata": {
        "id": "1M5UfbqVapep"
      }
    },
    {
      "cell_type": "code",
      "source": [
        "def gemStones(arr):\n",
        "  compare = set(arr[0])\n",
        "\n",
        "  for gem in arr[1:]:\n",
        "    compare &= set(gem)\n",
        "\n",
        "  return len(compare)\n",
        "\n",
        "\n",
        "\n",
        "\n",
        "arr = ['abcdde', 'baccd', 'eeabg']\n",
        "result = gemStones(arr)\n",
        "print(result)"
      ],
      "metadata": {
        "colab": {
          "base_uri": "https://localhost:8080/"
        },
        "id": "v40rxncIBGs-",
        "outputId": "ba91130d-6e79-4f56-c4f3-6cad9afd87e1"
      },
      "execution_count": 12,
      "outputs": [
        {
          "output_type": "stream",
          "name": "stdout",
          "text": [
            "2\n"
          ]
        }
      ]
    }
  ],
  "metadata": {
    "colab": {
      "provenance": [],
      "authorship_tag": "ABX9TyNedzlRVxmnXNhg9n4ghUTs",
      "include_colab_link": true
    },
    "kernelspec": {
      "display_name": "Python 3",
      "name": "python3"
    },
    "language_info": {
      "name": "python"
    }
  },
  "nbformat": 4,
  "nbformat_minor": 0
}
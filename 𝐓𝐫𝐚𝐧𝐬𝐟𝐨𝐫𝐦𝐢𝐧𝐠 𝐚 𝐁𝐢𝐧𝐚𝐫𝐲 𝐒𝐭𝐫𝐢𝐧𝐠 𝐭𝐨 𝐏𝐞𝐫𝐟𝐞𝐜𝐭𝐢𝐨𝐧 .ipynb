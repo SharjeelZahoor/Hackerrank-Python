{
  "cells": [
    {
      "cell_type": "markdown",
      "metadata": {
        "id": "view-in-github",
        "colab_type": "text"
      },
      "source": [
        "<a href=\"https://colab.research.google.com/github/SharjeelZahoor/Hackerrank-Python/blob/main/%F0%9D%90%93%F0%9D%90%AB%F0%9D%90%9A%F0%9D%90%A7%F0%9D%90%AC%F0%9D%90%9F%F0%9D%90%A8%F0%9D%90%AB%F0%9D%90%A6%F0%9D%90%A2%F0%9D%90%A7%F0%9D%90%A0%20%F0%9D%90%9A%20%F0%9D%90%81%F0%9D%90%A2%F0%9D%90%A7%F0%9D%90%9A%F0%9D%90%AB%F0%9D%90%B2%20%F0%9D%90%92%F0%9D%90%AD%F0%9D%90%AB%F0%9D%90%A2%F0%9D%90%A7%F0%9D%90%A0%20%F0%9D%90%AD%F0%9D%90%A8%20%F0%9D%90%8F%F0%9D%90%9E%F0%9D%90%AB%F0%9D%90%9F%F0%9D%90%9E%F0%9D%90%9C%F0%9D%90%AD%F0%9D%90%A2%F0%9D%90%A8%F0%9D%90%A7%20.ipynb\" target=\"_parent\"><img src=\"https://colab.research.google.com/assets/colab-badge.svg\" alt=\"Open In Colab\"/></a>"
      ]
    },
    {
      "cell_type": "markdown",
      "source": [
        "𝐓𝐫𝐚𝐧𝐬𝐟𝐨𝐫𝐦𝐢𝐧𝐠 𝐚 𝐁𝐢𝐧𝐚𝐫𝐲 𝐒𝐭𝐫𝐢𝐧𝐠 𝐭𝐨 𝐏𝐞𝐫𝐟𝐞𝐜𝐭𝐢𝐨𝐧 ✨\n",
        "\n",
        "I recently tackled a fascinating challenge: transforming a binary string to ensure it meets a specific \"beautiful\" criterion. 🧠 The goal was to modify the string with the fewest possible changes to eliminate any unwanted patterns.\n",
        "\n",
        "🔍 The Task:\n",
        "\n",
        " Count the minimum number of steps needed to make the string \"beautiful\" by strategically altering specific digits."
      ],
      "metadata": {
        "id": "WHLvNYOktOZ2"
      }
    },
    {
      "cell_type": "code",
      "execution_count": 38,
      "metadata": {
        "colab": {
          "base_uri": "https://localhost:8080/"
        },
        "id": "v40rxncIBGs-",
        "outputId": "a343ce57-d34b-4a74-af15-c76b5ed53a03"
      },
      "outputs": [
        {
          "output_type": "execute_result",
          "data": {
            "text/plain": [
              "3"
            ]
          },
          "metadata": {},
          "execution_count": 38
        }
      ],
      "source": [
        "def beautifulBinaryString(b):\n",
        "    # Write your code here\n",
        "    count_changes = 0\n",
        "    for i in range(1, len(b)-1):\n",
        "        if b[i] == '1' and b[i+1] == '0' and b[i-1] == '0':\n",
        "            b = b[:i+1] + '1' + b[i+2:]\n",
        "            count_changes += 1\n",
        "\n",
        "    return count_changes\n",
        "\n",
        "b = '0100101010'\n",
        "beautifulBinaryString(b)"
      ]
    }
  ],
  "metadata": {
    "colab": {
      "provenance": [],
      "authorship_tag": "ABX9TyPut0fEi60QhLeUbLxwAhu/",
      "include_colab_link": true
    },
    "kernelspec": {
      "display_name": "Python 3",
      "name": "python3"
    },
    "language_info": {
      "name": "python"
    }
  },
  "nbformat": 4,
  "nbformat_minor": 0
}
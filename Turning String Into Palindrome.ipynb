{
  "cells": [
    {
      "cell_type": "markdown",
      "metadata": {
        "id": "view-in-github",
        "colab_type": "text"
      },
      "source": [
        "<a href=\"https://colab.research.google.com/github/SharjeelZahoor/Hackerrank-Python/blob/main/Turning%20String%20Into%20Palindrome.ipynb\" target=\"_parent\"><img src=\"https://colab.research.google.com/assets/colab-badge.svg\" alt=\"Open In Colab\"/></a>"
      ]
    },
    {
      "cell_type": "markdown",
      "source": [
        "Turning Strings into Palindromes\n",
        "\n",
        "I recently took on a fascinating challenge that involved converting a string into a palindrome with the minimum number of operations. The task was to adjust the characters in the string by reducing their values so that the string would read the same forwards and backwards.\n"
      ],
      "metadata": {
        "id": "WHLvNYOktOZ2"
      }
    },
    {
      "cell_type": "code",
      "execution_count": 36,
      "metadata": {
        "colab": {
          "base_uri": "https://localhost:8080/"
        },
        "id": "v40rxncIBGs-",
        "outputId": "9b168852-ed48-4acd-b8b4-c70e4ca72e16"
      },
      "outputs": [
        {
          "output_type": "execute_result",
          "data": {
            "text/plain": [
              "5"
            ]
          },
          "metadata": {},
          "execution_count": 36
        }
      ],
      "source": [
        "def theLoveLetterMystery(s):\n",
        "    # Write your code here\n",
        "    n = len(s)\n",
        "    operations = 0\n",
        "\n",
        "    for i in range(n // 2):\n",
        "        left_char = s[i]\n",
        "        right_char = s[n - i - 1]\n",
        "        operations += abs(ord(left_char) - ord(right_char))\n",
        "    return operations\n",
        "\n",
        "s = 'ababcd'\n",
        "theLoveLetterMystery(s)"
      ]
    }
  ],
  "metadata": {
    "colab": {
      "provenance": [],
      "authorship_tag": "ABX9TyOKEJIzZzmg//4xEwSBm5kh",
      "include_colab_link": true
    },
    "kernelspec": {
      "display_name": "Python 3",
      "name": "python3"
    },
    "language_info": {
      "name": "python"
    }
  },
  "nbformat": 4,
  "nbformat_minor": 0
}
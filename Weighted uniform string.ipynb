{
  "cells": [
    {
      "cell_type": "markdown",
      "metadata": {
        "id": "view-in-github",
        "colab_type": "text"
      },
      "source": [
        "<a href=\"https://colab.research.google.com/github/SharjeelZahoor/Hackerrank-Python/blob/main/Weighted%20uniform%20string.ipynb\" target=\"_parent\"><img src=\"https://colab.research.google.com/assets/colab-badge.svg\" alt=\"Open In Colab\"/></a>"
      ]
    },
    {
      "cell_type": "markdown",
      "source": [
        "Calculating the weights of uniform substrings in a string, where each letter's weight is determined by its position in the alphabet (e.g., 'a' = 1, 'b' = 2, ... 'z' = 26).\n",
        "\n",
        "The challenge required optimizing the solution to efficiently handle large inputs and queries. By leveraging Python’s ord() function, I was able to calculate character weights directly, streamlining the entire process.\n",
        "\n",
        "Here’s a quick breakdown:\n",
        "\n",
        "🧮 Concept: Compute the weight of each character and track uniform substrings.\n",
        "\n",
        "🔄 Optimization: Used ord(char) - ord('a') + 1 to determine character weights quickly.\n",
        "\n",
        "🎯 Result: The code became more efficient and scalable, handling large data sets smoothly.\n",
        "\n",
        "It’s always rewarding to see how simple functions like ord() can have a significant impact on performance and code clarity!"
      ],
      "metadata": {
        "id": "Sen2POXOE1kt"
      }
    },
    {
      "cell_type": "code",
      "source": [
        "s = \"abccddde\"\n",
        "queries = [1, 3, 12, 5, 9, 10]\n",
        "\n",
        "weights = set()\n",
        "prev_char = ''\n",
        "new_weight = 0\n",
        "for char in s:\n",
        "  weight = ord(char) - ord('a') + 1\n",
        "  if char == prev_char:\n",
        "    new_weight += weight\n",
        "  else:\n",
        "    prev_char = char\n",
        "    new_weight = weight\n",
        "  weights.add(new_weight)\n",
        "\n",
        "print([\"Yes\" if query in weights else \"No\" for query in queries])\n",
        "\n",
        "\n",
        "\n",
        "\n",
        "\n"
      ],
      "metadata": {
        "colab": {
          "base_uri": "https://localhost:8080/"
        },
        "id": "pKg91OTK58O1",
        "outputId": "b14bb20b-0269-41c9-be64-6f959516e119"
      },
      "execution_count": 7,
      "outputs": [
        {
          "output_type": "stream",
          "name": "stdout",
          "text": [
            "['Yes', 'Yes', 'Yes', 'Yes', 'No', 'No']\n",
            "['Yes', 'Yes', 'Yes', 'Yes', 'No', 'No']\n"
          ]
        }
      ]
    },
    {
      "cell_type": "code",
      "source": [],
      "metadata": {
        "id": "JO20um0mOzhk"
      },
      "execution_count": null,
      "outputs": []
    }
  ],
  "metadata": {
    "colab": {
      "provenance": [],
      "authorship_tag": "ABX9TyN5XU55yDkzIJjevCyS1cyJ",
      "include_colab_link": true
    },
    "kernelspec": {
      "display_name": "Python 3",
      "name": "python3"
    },
    "language_info": {
      "name": "python"
    }
  },
  "nbformat": 4,
  "nbformat_minor": 0
}
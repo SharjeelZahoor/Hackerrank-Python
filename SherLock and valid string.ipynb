{
  "cells": [
    {
      "cell_type": "markdown",
      "metadata": {
        "id": "view-in-github",
        "colab_type": "text"
      },
      "source": [
        "<a href=\"https://colab.research.google.com/github/SharjeelZahoor/Hackerrank-Python/blob/main/SherLock%20and%20valid%20string.ipynb\" target=\"_parent\"><img src=\"https://colab.research.google.com/assets/colab-badge.svg\" alt=\"Open In Colab\"/></a>"
      ]
    },
    {
      "cell_type": "code",
      "execution_count": 26,
      "metadata": {
        "colab": {
          "base_uri": "https://localhost:8080/"
        },
        "id": "v40rxncIBGs-",
        "outputId": "7a34d589-02e5-4ca6-8a6d-1c6da5a91831"
      },
      "outputs": [
        {
          "output_type": "stream",
          "name": "stdout",
          "text": [
            "NO\n",
            "NO\n",
            "YES\n"
          ]
        }
      ],
      "source": [
        "def isValid(s):\n",
        "    freq = {}\n",
        "    for char in s:\n",
        "        if char in freq:\n",
        "            freq[char] += 1\n",
        "        else:\n",
        "            freq[char] = 1\n",
        "\n",
        "    count_values = {}\n",
        "    for count in freq.values():\n",
        "        if count in count_values:\n",
        "            count_values[count] += 1\n",
        "        else:\n",
        "            count_values[count] = 1\n",
        "\n",
        "    if len(count_values) == 1:\n",
        "        return \"YES\"\n",
        "\n",
        "    if len(count_values) == 2:\n",
        "\n",
        "        (freq1, count1), (freq2, count2) = list(count_values.items())\n",
        "\n",
        "        if (freq1 == 1 and count1 == 1) or (freq2 == 1 and count2 == 1):\n",
        "            return \"YES\"\n",
        "\n",
        "        if (abs(freq1 - freq2) == 1) and ((count1 == 1) or (count2 == 1)):\n",
        "            return \"YES\"\n",
        "\n",
        "    return \"NO\"\n",
        "\n",
        "# Sample Test Cases\n",
        "print(isValid(\"aabbcd\"))\n",
        "print(isValid(\"aabbccddeefghi\"))\n",
        "print(isValid(\"abcdefghhgfedecba\"))\n"
      ]
    }
  ],
  "metadata": {
    "colab": {
      "provenance": [],
      "authorship_tag": "ABX9TyM32g3m+xgoO1ekcE1o4Vpf",
      "include_colab_link": true
    },
    "kernelspec": {
      "display_name": "Python 3",
      "name": "python3"
    },
    "language_info": {
      "name": "python"
    }
  },
  "nbformat": 4,
  "nbformat_minor": 0
}